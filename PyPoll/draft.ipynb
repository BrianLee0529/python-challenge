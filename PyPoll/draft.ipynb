{
 "cells": [
  {
   "cell_type": "code",
   "execution_count": 1,
   "id": "68b66230-21c9-489d-bc5b-fcb8ed1a865f",
   "metadata": {},
   "outputs": [],
   "source": [
    "import os\n",
    "import csv\n",
    "\n",
    "Election_csv = os.path.join('..','PyPoll','Resources','Election_data.csv')"
   ]
  },
  {
   "cell_type": "code",
   "execution_count": 8,
   "id": "2873bc30-b3a7-4f8e-8ce7-6b340de83464",
   "metadata": {},
   "outputs": [],
   "source": [
    "total_votes = 0\n",
    "candidate_options = []\n",
    "candidate_votes = {}\n",
    "winning_candiate = \"\"\n",
    "winning_count = 0"
   ]
  },
  {
   "cell_type": "code",
   "execution_count": 37,
   "id": "7010b751-38f5-41c6-94dd-58c4acd792ae",
   "metadata": {},
   "outputs": [],
   "source": [
    "output_file = \"./output.txt\""
   ]
  },
  {
   "cell_type": "code",
   "execution_count": 22,
   "id": "64818d72-88fa-4a78-860e-b275ec6ac61c",
   "metadata": {},
   "outputs": [],
   "source": [
    "with open(Election_csv) as csvfile:\n",
    "    reader = csv.reader(csvfile,delimiter=',')\n",
    "    header = next(reader)\n",
    "\n",
    "    for row in reader:\n",
    "        total_votes = total_votes + 1 \n",
    "        candidate_name = row[2]\n",
    "\n",
    "        if candidate_name not in candidate_options:\n",
    "            candidate_options.append(candidate_name)\n",
    "            candidate_votes[candidate_name] = 0\n",
    "        candidate_votes[candidate_name] = candidate_votes[candidate_name] + 1\n",
    "    "
   ]
  },
  {
   "cell_type": "code",
   "execution_count": 27,
   "id": "de1adebd-4121-400c-a465-8f5f5268f354",
   "metadata": {},
   "outputs": [
    {
     "data": {
      "text/plain": [
       "369711"
      ]
     },
     "execution_count": 27,
     "metadata": {},
     "output_type": "execute_result"
    }
   ],
   "source": [
    "total_votes"
   ]
  },
  {
   "cell_type": "code",
   "execution_count": 23,
   "id": "a018e0c1-4f05-4a9c-b484-abceaf7e19b4",
   "metadata": {},
   "outputs": [
    {
     "data": {
      "text/plain": [
       "{'Charles Casper Stockham': 85213,\n",
       " 'Diana DeGette': 272892,\n",
       " 'Raymon Anthony Doane': 11606}"
      ]
     },
     "execution_count": 23,
     "metadata": {},
     "output_type": "execute_result"
    }
   ],
   "source": [
    "candidate_votes"
   ]
  },
  {
   "cell_type": "code",
   "execution_count": 35,
   "id": "2de79545-7ff1-4cc0-8852-7a35a2a10e18",
   "metadata": {},
   "outputs": [],
   "source": [
    "for candidate in candidate_votes:\n",
    "    votes = candidate_votes.get(candidate)\n",
    "    vote_percentage = float(votes) / float(total_votes) * 100\n",
    "\n",
    "    if (votes > winning_count):\n",
    "        winning_count = votes\n",
    "        winning_candiate = candidate\n",
    "    voter_output = f\"{candidate} : {vote_percentage:.3f}% ({votes})\"\n",
    "    "
   ]
  },
  {
   "cell_type": "code",
   "execution_count": 36,
   "id": "9288b046-60fa-4447-9163-14723ddd9bef",
   "metadata": {},
   "outputs": [
    {
     "data": {
      "text/plain": [
       "'Raymon Anthony Doane : 3.139% (11606)'"
      ]
     },
     "execution_count": 36,
     "metadata": {},
     "output_type": "execute_result"
    }
   ],
   "source": [
    "voter_output"
   ]
  },
  {
   "cell_type": "code",
   "execution_count": 26,
   "id": "b491c06a-a800-477b-9e48-1e4c3d6f10f0",
   "metadata": {},
   "outputs": [
    {
     "data": {
      "text/plain": [
       "85213"
      ]
     },
     "execution_count": 26,
     "metadata": {},
     "output_type": "execute_result"
    }
   ],
   "source": [
    "candidate_votes.get(\"Charles Casper Stockham\")"
   ]
  },
  {
   "cell_type": "code",
   "execution_count": 39,
   "id": "7d478b1c-6927-457c-bf13-8367091e94cf",
   "metadata": {},
   "outputs": [],
   "source": [
    "with open(output_file, \"w\")  as txt_file:\n",
    "    txt_file.write(voter_output)"
   ]
  },
  {
   "cell_type": "code",
   "execution_count": null,
   "id": "e0d404f6-b50f-4f71-ad14-34647da3b57a",
   "metadata": {},
   "outputs": [],
   "source": []
  }
 ],
 "metadata": {
  "kernelspec": {
   "display_name": "Python 3 (ipykernel)",
   "language": "python",
   "name": "python3"
  },
  "language_info": {
   "codemirror_mode": {
    "name": "ipython",
    "version": 3
   },
   "file_extension": ".py",
   "mimetype": "text/x-python",
   "name": "python",
   "nbconvert_exporter": "python",
   "pygments_lexer": "ipython3",
   "version": "3.11.5"
  }
 },
 "nbformat": 4,
 "nbformat_minor": 5
}
