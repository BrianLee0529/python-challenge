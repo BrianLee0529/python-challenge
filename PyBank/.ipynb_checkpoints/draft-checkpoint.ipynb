{
 "cells": [
  {
   "cell_type": "code",
   "execution_count": 11,
   "id": "2a7c28be-9b82-4d40-bad8-2fd80c08c006",
   "metadata": {},
   "outputs": [],
   "source": [
    "import os\n",
    "import csv\n",
    "\n",
    "total_months= 0\n",
    "total_net = 0\n",
    "total_profits= 0\n",
    "change_profits= 0\n",
    "net_change_list = []\n",
    "month_of_change = []\n",
    "greatest_increase= [\"\", 0]\n",
    "greatest_decrease= [\"\", 10000000000]"
   ]
  },
  {
   "cell_type": "code",
   "execution_count": 9,
   "id": "ee60da93-9171-4f15-afc1-eedb6043f674",
   "metadata": {},
   "outputs": [],
   "source": [
    "budget_csv = os.path.join('Resources/budget_data.csv')\n",
    "changes = []"
   ]
  },
  {
   "cell_type": "code",
   "execution_count": null,
   "id": "8af75d3d-349e-4556-90a3-08762bb8ff0e",
   "metadata": {},
   "outputs": [],
   "source": []
  },
  {
   "cell_type": "code",
   "execution_count": null,
   "id": "5e832f1a-3476-44e9-a40f-90c2dbb45d3f",
   "metadata": {},
   "outputs": [],
   "source": []
  },
  {
   "cell_type": "code",
   "execution_count": 12,
   "id": "b709b659-cb67-436a-b94e-6efe68fc5e20",
   "metadata": {},
   "outputs": [],
   "source": [
    "with open(budget_csv) as csvfile:\n",
    "    reader = csv.reader(csvfile,delimiter=',')\n",
    "    header = next(reader)\n",
    "    first_row = next(reader)\n",
    "    total_months += 1\n",
    "    total_net  += int(first_row[1])\n",
    "    prev_net = int(first_row[1])\n",
    "    for row in reader:\n",
    "        total_months += 1\n",
    "        total_net += int(row[1])\n",
    "\n",
    "        net_change = int(row[1]) - prev_net\n",
    "        prev_net = int(row[1])\n",
    "        net_change_list += [net_change]\n",
    "        month_of_change += [row[0]]\n",
    "\n",
    "        if net_change > greatest_increase[1]:\n",
    "            greatest_increase[0] = row[0]\n",
    "            greatest_increase[1] = net_change\n",
    "\n",
    "        if net_change < greatest_decrease[1]:\n",
    "            greatest_decrease[0] = row[0]\n",
    "            greatest_decrease[1] = net_change\n",
    "        "
   ]
  },
  {
   "cell_type": "code",
   "execution_count": 24,
   "id": "d8cb664f-5ec5-4b13-93cb-494d4bdf88a4",
   "metadata": {},
   "outputs": [
    {
     "data": {
      "text/plain": [
       "'Jan-10'"
      ]
     },
     "execution_count": 24,
     "metadata": {},
     "output_type": "execute_result"
    }
   ],
   "source": [
    "first_row[0]"
   ]
  },
  {
   "cell_type": "code",
   "execution_count": 13,
   "id": "2168d8cb-588a-48f6-a191-7fa498a04afd",
   "metadata": {},
   "outputs": [
    {
     "data": {
      "text/plain": [
       "['Aug-16', 1862002]"
      ]
     },
     "execution_count": 13,
     "metadata": {},
     "output_type": "execute_result"
    }
   ],
   "source": [
    "greatest_increase"
   ]
  },
  {
   "cell_type": "code",
   "execution_count": 20,
   "id": "6b4e5f00-7cc4-42f2-9c02-294c9b2b2ae3",
   "metadata": {},
   "outputs": [
    {
     "data": {
      "text/plain": [
       "'Aug-16'"
      ]
     },
     "execution_count": 20,
     "metadata": {},
     "output_type": "execute_result"
    }
   ],
   "source": [
    "# indexing :\n",
    "greatest_increase[0]"
   ]
  },
  {
   "cell_type": "code",
   "execution_count": 21,
   "id": "804f9d68-5371-4295-9e56-e5730c5ac91b",
   "metadata": {},
   "outputs": [
    {
     "data": {
      "text/plain": [
       "1862002"
      ]
     },
     "execution_count": 21,
     "metadata": {},
     "output_type": "execute_result"
    }
   ],
   "source": [
    "greatest_increase[1]"
   ]
  },
  {
   "cell_type": "code",
   "execution_count": 14,
   "id": "e8fa4895-98a4-49d5-8bce-7e1d72ff756b",
   "metadata": {},
   "outputs": [
    {
     "data": {
      "text/plain": [
       "['Feb-14', -1825558]"
      ]
     },
     "execution_count": 14,
     "metadata": {},
     "output_type": "execute_result"
    }
   ],
   "source": [
    "greatest_decrease"
   ]
  },
  {
   "cell_type": "code",
   "execution_count": 15,
   "id": "e091b120-97c7-42e3-9c25-aafa685196d5",
   "metadata": {},
   "outputs": [],
   "source": [
    "net_monthly_avg = sum(net_change_list) / len(net_change_list)"
   ]
  },
  {
   "cell_type": "code",
   "execution_count": 17,
   "id": "bd1a5606-975d-430b-9e40-b4f26d43f00f",
   "metadata": {},
   "outputs": [
    {
     "data": {
      "text/plain": [
       "-8311.11"
      ]
     },
     "execution_count": 17,
     "metadata": {},
     "output_type": "execute_result"
    }
   ],
   "source": [
    "round(net_monthly_avg,2)"
   ]
  },
  {
   "cell_type": "code",
   "execution_count": 18,
   "id": "5c28d0be-2338-49bd-9bda-e33c7b79bdd6",
   "metadata": {},
   "outputs": [
    {
     "data": {
      "text/plain": [
       "86"
      ]
     },
     "execution_count": 18,
     "metadata": {},
     "output_type": "execute_result"
    }
   ],
   "source": [
    "total_months"
   ]
  },
  {
   "cell_type": "code",
   "execution_count": 19,
   "id": "e1cac7e4-cd18-40cd-870c-3a1b1bcb2024",
   "metadata": {},
   "outputs": [
    {
     "data": {
      "text/plain": [
       "22564198"
      ]
     },
     "execution_count": 19,
     "metadata": {},
     "output_type": "execute_result"
    }
   ],
   "source": [
    "total_net"
   ]
  },
  {
   "cell_type": "code",
   "execution_count": null,
   "id": "f7684c07-fa5b-4fee-b172-e71100c61029",
   "metadata": {},
   "outputs": [],
   "source": []
  }
 ],
 "metadata": {
  "kernelspec": {
   "display_name": "Python 3 (ipykernel)",
   "language": "python",
   "name": "python3"
  },
  "language_info": {
   "codemirror_mode": {
    "name": "ipython",
    "version": 3
   },
   "file_extension": ".py",
   "mimetype": "text/x-python",
   "name": "python",
   "nbconvert_exporter": "python",
   "pygments_lexer": "ipython3",
   "version": "3.11.5"
  }
 },
 "nbformat": 4,
 "nbformat_minor": 5
}
